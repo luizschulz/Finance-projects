{
  "nbformat": 4,
  "nbformat_minor": 0,
  "metadata": {
    "colab": {
      "provenance": []
    },
    "kernelspec": {
      "name": "python3",
      "display_name": "Python 3"
    },
    "language_info": {
      "name": "python"
    }
  },
  "cells": [
    {
      "cell_type": "code",
      "execution_count": 1,
      "metadata": {
        "id": "0M-cRFkgxJkf"
      },
      "outputs": [],
      "source": [
        "\n",
        "import pandas as pd\n",
        "import matplotlib.pyplot as plt\n",
        "import numpy as np\n",
        "import tensorflow as tf\n",
        "from tensorflow import keras\n",
        "import seaborn as sns\n",
        "import os\n",
        "import datetime as dt\n",
        "import yfinance as yf\n",
        "\n",
        "from sklearn.preprocessing import MinMaxScaler\n",
        " \n",
        "import warnings\n",
        "warnings.filterwarnings(\"ignore\")"
      ]
    },
    {
      "cell_type": "code",
      "source": [
        "start = dt.datetime(2015,1,1)\n",
        "end = dt.datetime.now()\n",
        "ticker = 'AAPL'"
      ],
      "metadata": {
        "id": "2I8OfkdpxNIu"
      },
      "execution_count": 2,
      "outputs": []
    },
    {
      "cell_type": "code",
      "source": [
        "data =  yf.download(tickers=ticker, start=start, end=end)\n",
        "data"
      ],
      "metadata": {
        "colab": {
          "base_uri": "https://localhost:8080/",
          "height": 473
        },
        "id": "mibP3QpqxNfO",
        "outputId": "97d41512-f585-4c81-bb61-3beb09d407ac"
      },
      "execution_count": 3,
      "outputs": [
        {
          "output_type": "stream",
          "name": "stdout",
          "text": [
            "\r[*********************100%***********************]  1 of 1 completed\n"
          ]
        },
        {
          "output_type": "execute_result",
          "data": {
            "text/plain": [
              "                  Open        High         Low       Close   Adj Close  \\\n",
              "Date                                                                     \n",
              "2015-01-02   27.847500   27.860001   26.837500   27.332500   24.565702   \n",
              "2015-01-05   27.072500   27.162500   26.352501   26.562500   23.873642   \n",
              "2015-01-06   26.635000   26.857500   26.157499   26.565001   23.875893   \n",
              "2015-01-07   26.799999   27.049999   26.674999   26.937500   24.210680   \n",
              "2015-01-08   27.307501   28.037500   27.174999   27.972500   25.140915   \n",
              "...                ...         ...         ...         ...         ...   \n",
              "2023-04-14  164.589996  166.320007  163.820007  165.210007  165.210007   \n",
              "2023-04-17  165.089996  165.389999  164.029999  165.229996  165.229996   \n",
              "2023-04-18  166.100006  167.410004  165.649994  166.470001  166.470001   \n",
              "2023-04-19  165.800003  168.160004  165.539993  167.630005  167.630005   \n",
              "2023-04-20  166.089996  167.869995  165.910004  167.690002  167.690002   \n",
              "\n",
              "               Volume  \n",
              "Date                   \n",
              "2015-01-02  212818400  \n",
              "2015-01-05  257142000  \n",
              "2015-01-06  263188400  \n",
              "2015-01-07  160423600  \n",
              "2015-01-08  237458000  \n",
              "...               ...  \n",
              "2023-04-14   49337200  \n",
              "2023-04-17   41516200  \n",
              "2023-04-18   49923000  \n",
              "2023-04-19   47644400  \n",
              "2023-04-20   27328742  \n",
              "\n",
              "[2089 rows x 6 columns]"
            ],
            "text/html": [
              "\n",
              "  <div id=\"df-430c1809-e23f-4f1c-b433-51dd79979386\">\n",
              "    <div class=\"colab-df-container\">\n",
              "      <div>\n",
              "<style scoped>\n",
              "    .dataframe tbody tr th:only-of-type {\n",
              "        vertical-align: middle;\n",
              "    }\n",
              "\n",
              "    .dataframe tbody tr th {\n",
              "        vertical-align: top;\n",
              "    }\n",
              "\n",
              "    .dataframe thead th {\n",
              "        text-align: right;\n",
              "    }\n",
              "</style>\n",
              "<table border=\"1\" class=\"dataframe\">\n",
              "  <thead>\n",
              "    <tr style=\"text-align: right;\">\n",
              "      <th></th>\n",
              "      <th>Open</th>\n",
              "      <th>High</th>\n",
              "      <th>Low</th>\n",
              "      <th>Close</th>\n",
              "      <th>Adj Close</th>\n",
              "      <th>Volume</th>\n",
              "    </tr>\n",
              "    <tr>\n",
              "      <th>Date</th>\n",
              "      <th></th>\n",
              "      <th></th>\n",
              "      <th></th>\n",
              "      <th></th>\n",
              "      <th></th>\n",
              "      <th></th>\n",
              "    </tr>\n",
              "  </thead>\n",
              "  <tbody>\n",
              "    <tr>\n",
              "      <th>2015-01-02</th>\n",
              "      <td>27.847500</td>\n",
              "      <td>27.860001</td>\n",
              "      <td>26.837500</td>\n",
              "      <td>27.332500</td>\n",
              "      <td>24.565702</td>\n",
              "      <td>212818400</td>\n",
              "    </tr>\n",
              "    <tr>\n",
              "      <th>2015-01-05</th>\n",
              "      <td>27.072500</td>\n",
              "      <td>27.162500</td>\n",
              "      <td>26.352501</td>\n",
              "      <td>26.562500</td>\n",
              "      <td>23.873642</td>\n",
              "      <td>257142000</td>\n",
              "    </tr>\n",
              "    <tr>\n",
              "      <th>2015-01-06</th>\n",
              "      <td>26.635000</td>\n",
              "      <td>26.857500</td>\n",
              "      <td>26.157499</td>\n",
              "      <td>26.565001</td>\n",
              "      <td>23.875893</td>\n",
              "      <td>263188400</td>\n",
              "    </tr>\n",
              "    <tr>\n",
              "      <th>2015-01-07</th>\n",
              "      <td>26.799999</td>\n",
              "      <td>27.049999</td>\n",
              "      <td>26.674999</td>\n",
              "      <td>26.937500</td>\n",
              "      <td>24.210680</td>\n",
              "      <td>160423600</td>\n",
              "    </tr>\n",
              "    <tr>\n",
              "      <th>2015-01-08</th>\n",
              "      <td>27.307501</td>\n",
              "      <td>28.037500</td>\n",
              "      <td>27.174999</td>\n",
              "      <td>27.972500</td>\n",
              "      <td>25.140915</td>\n",
              "      <td>237458000</td>\n",
              "    </tr>\n",
              "    <tr>\n",
              "      <th>...</th>\n",
              "      <td>...</td>\n",
              "      <td>...</td>\n",
              "      <td>...</td>\n",
              "      <td>...</td>\n",
              "      <td>...</td>\n",
              "      <td>...</td>\n",
              "    </tr>\n",
              "    <tr>\n",
              "      <th>2023-04-14</th>\n",
              "      <td>164.589996</td>\n",
              "      <td>166.320007</td>\n",
              "      <td>163.820007</td>\n",
              "      <td>165.210007</td>\n",
              "      <td>165.210007</td>\n",
              "      <td>49337200</td>\n",
              "    </tr>\n",
              "    <tr>\n",
              "      <th>2023-04-17</th>\n",
              "      <td>165.089996</td>\n",
              "      <td>165.389999</td>\n",
              "      <td>164.029999</td>\n",
              "      <td>165.229996</td>\n",
              "      <td>165.229996</td>\n",
              "      <td>41516200</td>\n",
              "    </tr>\n",
              "    <tr>\n",
              "      <th>2023-04-18</th>\n",
              "      <td>166.100006</td>\n",
              "      <td>167.410004</td>\n",
              "      <td>165.649994</td>\n",
              "      <td>166.470001</td>\n",
              "      <td>166.470001</td>\n",
              "      <td>49923000</td>\n",
              "    </tr>\n",
              "    <tr>\n",
              "      <th>2023-04-19</th>\n",
              "      <td>165.800003</td>\n",
              "      <td>168.160004</td>\n",
              "      <td>165.539993</td>\n",
              "      <td>167.630005</td>\n",
              "      <td>167.630005</td>\n",
              "      <td>47644400</td>\n",
              "    </tr>\n",
              "    <tr>\n",
              "      <th>2023-04-20</th>\n",
              "      <td>166.089996</td>\n",
              "      <td>167.869995</td>\n",
              "      <td>165.910004</td>\n",
              "      <td>167.690002</td>\n",
              "      <td>167.690002</td>\n",
              "      <td>27328742</td>\n",
              "    </tr>\n",
              "  </tbody>\n",
              "</table>\n",
              "<p>2089 rows × 6 columns</p>\n",
              "</div>\n",
              "      <button class=\"colab-df-convert\" onclick=\"convertToInteractive('df-430c1809-e23f-4f1c-b433-51dd79979386')\"\n",
              "              title=\"Convert this dataframe to an interactive table.\"\n",
              "              style=\"display:none;\">\n",
              "        \n",
              "  <svg xmlns=\"http://www.w3.org/2000/svg\" height=\"24px\"viewBox=\"0 0 24 24\"\n",
              "       width=\"24px\">\n",
              "    <path d=\"M0 0h24v24H0V0z\" fill=\"none\"/>\n",
              "    <path d=\"M18.56 5.44l.94 2.06.94-2.06 2.06-.94-2.06-.94-.94-2.06-.94 2.06-2.06.94zm-11 1L8.5 8.5l.94-2.06 2.06-.94-2.06-.94L8.5 2.5l-.94 2.06-2.06.94zm10 10l.94 2.06.94-2.06 2.06-.94-2.06-.94-.94-2.06-.94 2.06-2.06.94z\"/><path d=\"M17.41 7.96l-1.37-1.37c-.4-.4-.92-.59-1.43-.59-.52 0-1.04.2-1.43.59L10.3 9.45l-7.72 7.72c-.78.78-.78 2.05 0 2.83L4 21.41c.39.39.9.59 1.41.59.51 0 1.02-.2 1.41-.59l7.78-7.78 2.81-2.81c.8-.78.8-2.07 0-2.86zM5.41 20L4 18.59l7.72-7.72 1.47 1.35L5.41 20z\"/>\n",
              "  </svg>\n",
              "      </button>\n",
              "      \n",
              "  <style>\n",
              "    .colab-df-container {\n",
              "      display:flex;\n",
              "      flex-wrap:wrap;\n",
              "      gap: 12px;\n",
              "    }\n",
              "\n",
              "    .colab-df-convert {\n",
              "      background-color: #E8F0FE;\n",
              "      border: none;\n",
              "      border-radius: 50%;\n",
              "      cursor: pointer;\n",
              "      display: none;\n",
              "      fill: #1967D2;\n",
              "      height: 32px;\n",
              "      padding: 0 0 0 0;\n",
              "      width: 32px;\n",
              "    }\n",
              "\n",
              "    .colab-df-convert:hover {\n",
              "      background-color: #E2EBFA;\n",
              "      box-shadow: 0px 1px 2px rgba(60, 64, 67, 0.3), 0px 1px 3px 1px rgba(60, 64, 67, 0.15);\n",
              "      fill: #174EA6;\n",
              "    }\n",
              "\n",
              "    [theme=dark] .colab-df-convert {\n",
              "      background-color: #3B4455;\n",
              "      fill: #D2E3FC;\n",
              "    }\n",
              "\n",
              "    [theme=dark] .colab-df-convert:hover {\n",
              "      background-color: #434B5C;\n",
              "      box-shadow: 0px 1px 3px 1px rgba(0, 0, 0, 0.15);\n",
              "      filter: drop-shadow(0px 1px 2px rgba(0, 0, 0, 0.3));\n",
              "      fill: #FFFFFF;\n",
              "    }\n",
              "  </style>\n",
              "\n",
              "      <script>\n",
              "        const buttonEl =\n",
              "          document.querySelector('#df-430c1809-e23f-4f1c-b433-51dd79979386 button.colab-df-convert');\n",
              "        buttonEl.style.display =\n",
              "          google.colab.kernel.accessAllowed ? 'block' : 'none';\n",
              "\n",
              "        async function convertToInteractive(key) {\n",
              "          const element = document.querySelector('#df-430c1809-e23f-4f1c-b433-51dd79979386');\n",
              "          const dataTable =\n",
              "            await google.colab.kernel.invokeFunction('convertToInteractive',\n",
              "                                                     [key], {});\n",
              "          if (!dataTable) return;\n",
              "\n",
              "          const docLinkHtml = 'Like what you see? Visit the ' +\n",
              "            '<a target=\"_blank\" href=https://colab.research.google.com/notebooks/data_table.ipynb>data table notebook</a>'\n",
              "            + ' to learn more about interactive tables.';\n",
              "          element.innerHTML = '';\n",
              "          dataTable['output_type'] = 'display_data';\n",
              "          await google.colab.output.renderOutput(dataTable, element);\n",
              "          const docLink = document.createElement('div');\n",
              "          docLink.innerHTML = docLinkHtml;\n",
              "          element.appendChild(docLink);\n",
              "        }\n",
              "      </script>\n",
              "    </div>\n",
              "  </div>\n",
              "  "
            ]
          },
          "metadata": {},
          "execution_count": 3
        }
      ]
    },
    {
      "cell_type": "code",
      "source": [
        "prices = data['Close'].values"
      ],
      "metadata": {
        "id": "u8Kyhr8qyZia"
      },
      "execution_count": 4,
      "outputs": []
    },
    {
      "cell_type": "code",
      "source": [
        "plt.plot(prices)"
      ],
      "metadata": {
        "colab": {
          "base_uri": "https://localhost:8080/",
          "height": 448
        },
        "id": "MP99Ehiw1wXE",
        "outputId": "e60b230d-090a-4926-e4d0-f113d5d0e06a"
      },
      "execution_count": 5,
      "outputs": [
        {
          "output_type": "execute_result",
          "data": {
            "text/plain": [
              "[<matplotlib.lines.Line2D at 0x7fc7091eb4c0>]"
            ]
          },
          "metadata": {},
          "execution_count": 5
        },
        {
          "output_type": "display_data",
          "data": {
            "text/plain": [
              "<Figure size 640x480 with 1 Axes>"
            ],
            "image/png": "[encoded data removed]"
          },
          "metadata": {}
        }
      ]
    },
    {
      "cell_type": "code",
      "source": [
        "training_size = int(np.ceil(len(prices) * 0.9))"
      ],
      "metadata": {
        "id": "d_wXCtTKypBN"
      },
      "execution_count": 6,
      "outputs": []
    },
    {
      "cell_type": "code",
      "source": [
        "train_data = prices[0:training_size]\n"
      ],
      "metadata": {
        "id": "MTx16DtTy3nH"
      },
      "execution_count": 7,
      "outputs": []
    },
    {
      "cell_type": "code",
      "source": [
        "x_train = []\n",
        "y_train = []\n",
        "\n",
        "window_size = 30\n",
        " \n",
        "for i in range(window_size, len(train_data)):\n",
        "    x_train.append(train_data[i-window_size:i])\n",
        "    y_train.append(train_data[i])\n",
        "\n",
        "x_train, y_train = np.array(x_train), np.array(y_train)\n",
        "x_train = np.reshape(x_train, (x_train.shape[0], x_train.shape[1], 1))"
      ],
      "metadata": {
        "id": "CZwLYYDezCwO"
      },
      "execution_count": 98,
      "outputs": []
    },
    {
      "cell_type": "code",
      "source": [
        "tf.keras.backend.clear_session()\n",
        "\n",
        "model = keras.models.Sequential()\n",
        "model.add(keras.layers.LSTM(units=64,\n",
        "                            input_shape=(x_train.shape[1], 1)))\n",
        "\n",
        "model.add(keras.layers.Dense(64))\n",
        "\n",
        "model.add(keras.layers.Dense(32, activation='relu'))\n",
        "model.add(keras.layers.Dense(1))\n",
        "model.summary"
      ],
      "metadata": {
        "colab": {
          "base_uri": "https://localhost:8080/"
        },
        "id": "Bh9mWZws0BKI",
        "outputId": "6d8bd241-fbc6-4dfd-8c5b-1863df883c4b"
      },
      "execution_count": 99,
      "outputs": [
        {
          "output_type": "execute_result",
          "data": {
            "text/plain": [
              "<bound method Model.summary of <keras.engine.sequential.Sequential object at 0x7fc6efb9cca0>>"
            ]
          },
          "metadata": {},
          "execution_count": 99
        }
      ]
    },
    {
      "cell_type": "code",
      "source": [
        "model.compile(optimizer=tf.keras.optimizers.Adam(learning_rate=0.001),\n",
        "              loss='mean_squared_error')\n",
        "history = model.fit(x_train,\n",
        "                    y_train,\n",
        "                    epochs=30\n",
        "                    )"
      ],
      "metadata": {
        "colab": {
          "base_uri": "https://localhost:8080/"
        },
        "id": "2GGB0K590GaZ",
        "outputId": "b8f54e7d-0733-4484-ac96-437930d150f1"
      },
      "execution_count": 100,
      "outputs": [
        {
          "output_type": "stream",
          "name": "stdout",
          "text": [
            "Epoch 1/30\n",
            "58/58 [==============================] - 4s 16ms/step - loss: 5934.6479\n",
            "Epoch 2/30\n",
            "58/58 [==============================] - 1s 15ms/step - loss: 2285.9690\n",
            "Epoch 3/30\n",
            "58/58 [==============================] - 1s 16ms/step - loss: 238.1529\n",
            "Epoch 4/30\n",
            "58/58 [==============================] - 1s 16ms/step - loss: 6.4958\n",
            "Epoch 5/30\n",
            "58/58 [==============================] - 1s 16ms/step - loss: 4.8789\n",
            "Epoch 6/30\n",
            "58/58 [==============================] - 1s 26ms/step - loss: 5.5045\n",
            "Epoch 7/30\n",
            "58/58 [==============================] - 1s 19ms/step - loss: 4.3292\n",
            "Epoch 8/30\n",
            "58/58 [==============================] - 1s 18ms/step - loss: 3.5943\n",
            "Epoch 9/30\n",
            "58/58 [==============================] - 1s 15ms/step - loss: 3.4599\n",
            "Epoch 10/30\n",
            "58/58 [==============================] - 1s 15ms/step - loss: 3.6693\n",
            "Epoch 11/30\n",
            "58/58 [==============================] - 1s 15ms/step - loss: 3.7983\n",
            "Epoch 12/30\n",
            "58/58 [==============================] - 1s 16ms/step - loss: 3.2295\n",
            "Epoch 13/30\n",
            "58/58 [==============================] - 1s 16ms/step - loss: 3.7726\n",
            "Epoch 14/30\n",
            "58/58 [==============================] - 1s 16ms/step - loss: 3.6970\n",
            "Epoch 15/30\n",
            "58/58 [==============================] - 1s 16ms/step - loss: 3.4776\n",
            "Epoch 16/30\n",
            "58/58 [==============================] - 1s 16ms/step - loss: 3.5698\n",
            "Epoch 17/30\n",
            "58/58 [==============================] - 1s 16ms/step - loss: 3.2714\n",
            "Epoch 18/30\n",
            "58/58 [==============================] - 1s 25ms/step - loss: 3.1849\n",
            "Epoch 19/30\n",
            "58/58 [==============================] - 1s 20ms/step - loss: 3.3939\n",
            "Epoch 20/30\n",
            "58/58 [==============================] - 1s 16ms/step - loss: 3.5276\n",
            "Epoch 21/30\n",
            "58/58 [==============================] - 1s 16ms/step - loss: 3.6054\n",
            "Epoch 22/30\n",
            "58/58 [==============================] - 1s 16ms/step - loss: 3.4438\n",
            "Epoch 23/30\n",
            "58/58 [==============================] - 1s 17ms/step - loss: 3.6527\n",
            "Epoch 24/30\n",
            "58/58 [==============================] - 1s 16ms/step - loss: 3.6276\n",
            "Epoch 25/30\n",
            "58/58 [==============================] - 1s 16ms/step - loss: 2.9817\n",
            "Epoch 26/30\n",
            "58/58 [==============================] - 1s 16ms/step - loss: 3.9152\n",
            "Epoch 27/30\n",
            "58/58 [==============================] - 1s 16ms/step - loss: 3.2437\n",
            "Epoch 28/30\n",
            "58/58 [==============================] - 1s 16ms/step - loss: 3.7237\n",
            "Epoch 29/30\n",
            "58/58 [==============================] - 1s 16ms/step - loss: 3.4070\n",
            "Epoch 30/30\n",
            "58/58 [==============================] - 2s 26ms/step - loss: 3.3997\n"
          ]
        }
      ]
    },
    {
      "cell_type": "code",
      "source": [
        "\n",
        "test_data = prices[training_size - window_size:]\n",
        "x_test = []\n",
        "y_test = prices[training_size:]\n",
        "for i in range(window_size, len(test_data)):\n",
        "    x_test.append(test_data[i-window_size:i])\n",
        " \n",
        "x_test = np.array(x_test)\n",
        "x_test = np.reshape(x_test, (x_test.shape[0], x_test.shape[1], 1))\n",
        " \n",
        "# predict the testing data\n",
        "predictions = model.predict(x_test)\n",
        " \n",
        "# evaluation metrics\n",
        "mse = np.mean(((predictions - y_test) ** 2))\n",
        "print(\"MSE\", mse)\n",
        "print(\"RMSE\", np.sqrt(mse))\n",
        "\n",
        "#13.48\n",
        "#14.4"
      ],
      "metadata": {
        "colab": {
          "base_uri": "https://localhost:8080/"
        },
        "id": "a38bB1sp0IMm",
        "outputId": "82b63387-0fc7-4faa-af32-e9678e1376f6"
      },
      "execution_count": 101,
      "outputs": [
        {
          "output_type": "stream",
          "name": "stdout",
          "text": [
            "7/7 [==============================] - 1s 8ms/step\n",
            "MSE 231.46575759185302\n",
            "RMSE 15.213998737736672\n"
          ]
        }
      ]
    },
    {
      "cell_type": "code",
      "source": [
        "plt.plot(prices[training_size:])\n",
        "plt.plot(predictions)\n"
      ],
      "metadata": {
        "colab": {
          "base_uri": "https://localhost:8080/",
          "height": 448
        },
        "id": "x7MoBUwL3VFf",
        "outputId": "33483767-e337-46f7-b206-88cac3216a5d"
      },
      "execution_count": 102,
      "outputs": [
        {
          "output_type": "execute_result",
          "data": {
            "text/plain": [
              "[<matplotlib.lines.Line2D at 0x7fc6f3c2f6a0>]"
            ]
          },
          "metadata": {},
          "execution_count": 102
        },
        {
          "output_type": "display_data",
          "data": {
            "text/plain": [
              "<Figure size 640x480 with 1 Axes>"
            ],
            "image/png": "[encoded data removed]"
          },
          "metadata": {}
        }
      ]
    }
  ]
}